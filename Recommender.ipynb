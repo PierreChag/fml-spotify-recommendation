{
 "cells": [
  {
   "cell_type": "markdown",
   "metadata": {},
   "source": [
    "<h1><center>Foundation of Machine Learning</center></h1>\n",
    "<h2>\n",
    "<hr style=\" border:none; height:3px;\">\n",
    "<center>Project : Spotify Recommender</center>\n",
    "<hr style=\" border:none; height:3px;\">\n",
    "</h2>"
   ]
  },
  {
   "cell_type": "markdown",
   "metadata": {},
   "source": [
    "### Imports"
   ]
  },
  {
   "cell_type": "code",
   "execution_count": 1,
   "metadata": {},
   "outputs": [],
   "source": [
    "import pandas as pd\n",
    "pd.set_option('display.max_columns', None)\n",
    "pd.set_option('display.max_rows', None)\n",
    "pd.set_option('display.max_colwidth', None)\n",
    "\n",
    "import numpy as np\n",
    "import sklearn \n",
    "from sklearn import model_selection\n",
    "import Recommenders\n",
    "import Evaluation"
   ]
  },
  {
   "cell_type": "markdown",
   "metadata": {},
   "source": [
    "# Prepare the Dataset"
   ]
  },
  {
   "cell_type": "code",
   "execution_count": 2,
   "metadata": {},
   "outputs": [],
   "source": [
    "# Read the data\n",
    "df = pd.read_csv('final.csv', index_col=0)\n",
    "\n",
    "#Merge song title and artist_name columns to make a merged column\n",
    "df['song'] = df['title'].map(str) + \" - \" + df['artist_name']   \n",
    "#Drop unneccesary columns\n",
    "df.drop(['title', 'artist_name'], axis=1, inplace=True)"
   ]
  },
  {
   "cell_type": "code",
   "execution_count": 3,
   "metadata": {},
   "outputs": [],
   "source": [
    "# Minimal number of songs a user must have listened to be kept in our dataset\n",
    "min_songs = 10\n",
    "# Minimal number of times a song must have been listened to be kept in our dataset\n",
    "min_listenings = 20"
   ]
  },
  {
   "cell_type": "code",
   "execution_count": 4,
   "metadata": {},
   "outputs": [],
   "source": [
    "# Count how many songs each user listened to\n",
    "df['user_n_songs'] = df.groupby('user_id')['song'].transform('count')\n",
    "\n",
    "# Count how many users listened to each song\n",
    "df['song_n_users'] = df.groupby('song')['user_id'].transform('count')\n",
    "\n",
    "# Keep all the users that listened to at least n songs\n",
    "df = df[df['user_n_songs'] >= min_songs].drop_duplicates()\n",
    "\n",
    "# Keep only the songs that were listened by at least 10 users\n",
    "df = df[df['song_n_users'] >= min_listenings].drop_duplicates()"
   ]
  },
  {
   "cell_type": "code",
   "execution_count": 5,
   "metadata": {},
   "outputs": [
    {
     "data": {
      "text/html": [
       "<div>\n",
       "<style scoped>\n",
       "    .dataframe tbody tr th:only-of-type {\n",
       "        vertical-align: middle;\n",
       "    }\n",
       "\n",
       "    .dataframe tbody tr th {\n",
       "        vertical-align: top;\n",
       "    }\n",
       "\n",
       "    .dataframe thead th {\n",
       "        text-align: right;\n",
       "    }\n",
       "</style>\n",
       "<table border=\"1\" class=\"dataframe\">\n",
       "  <thead>\n",
       "    <tr style=\"text-align: right;\">\n",
       "      <th></th>\n",
       "      <th>song</th>\n",
       "      <th>user_id</th>\n",
       "      <th>play_count</th>\n",
       "    </tr>\n",
       "  </thead>\n",
       "  <tbody>\n",
       "    <tr>\n",
       "      <th>0</th>\n",
       "      <td>Tu Quieres Volver - Gipsy Kings</td>\n",
       "      <td>ee7aa84c164038c963cfd02a7e52a5598aa470c3</td>\n",
       "      <td>2</td>\n",
       "    </tr>\n",
       "    <tr>\n",
       "      <th>1</th>\n",
       "      <td>Tu Quieres Volver - Gipsy Kings</td>\n",
       "      <td>1aa4fd215aadb160965110ed8a829745cde319eb</td>\n",
       "      <td>1</td>\n",
       "    </tr>\n",
       "    <tr>\n",
       "      <th>2</th>\n",
       "      <td>Tu Quieres Volver - Gipsy Kings</td>\n",
       "      <td>cca2694a19b2474bc731574ebb8b10382214f865</td>\n",
       "      <td>2</td>\n",
       "    </tr>\n",
       "    <tr>\n",
       "      <th>3</th>\n",
       "      <td>Tu Quieres Volver - Gipsy Kings</td>\n",
       "      <td>681064acdadcfeca36237d157f96a2be48b9ded0</td>\n",
       "      <td>4</td>\n",
       "    </tr>\n",
       "    <tr>\n",
       "      <th>4</th>\n",
       "      <td>Tu Quieres Volver - Gipsy Kings</td>\n",
       "      <td>2449f618b43cc1f407670dab3a7f129a127cda4a</td>\n",
       "      <td>1</td>\n",
       "    </tr>\n",
       "  </tbody>\n",
       "</table>\n",
       "</div>"
      ],
      "text/plain": [
       "                              song                                   user_id  \\\n",
       "0  Tu Quieres Volver - Gipsy Kings  ee7aa84c164038c963cfd02a7e52a5598aa470c3   \n",
       "1  Tu Quieres Volver - Gipsy Kings  1aa4fd215aadb160965110ed8a829745cde319eb   \n",
       "2  Tu Quieres Volver - Gipsy Kings  cca2694a19b2474bc731574ebb8b10382214f865   \n",
       "3  Tu Quieres Volver - Gipsy Kings  681064acdadcfeca36237d157f96a2be48b9ded0   \n",
       "4  Tu Quieres Volver - Gipsy Kings  2449f618b43cc1f407670dab3a7f129a127cda4a   \n",
       "\n",
       "   play_count  \n",
       "0           2  \n",
       "1           1  \n",
       "2           2  \n",
       "3           4  \n",
       "4           1  "
      ]
     },
     "execution_count": 5,
     "metadata": {},
     "output_type": "execute_result"
    }
   ],
   "source": [
    "user_ids = df[['user_id']].drop_duplicates()\n",
    "df_test = df[['song', 'user_id', 'play_count']].reset_index(drop=True)\n",
    "df_test.head()"
   ]
  },
  {
   "cell_type": "markdown",
   "metadata": {},
   "source": [
    "# Recommenders"
   ]
  },
  {
   "cell_type": "markdown",
   "metadata": {},
   "source": [
    "In this part, we will create, test and evaluate different model to give recommendations. The different recommender can be found in the file `Recommenders.py`, and the functions to evaluate the recommenders can be found in `Evaluation.py`."
   ]
  },
  {
   "cell_type": "code",
   "execution_count": 6,
   "metadata": {},
   "outputs": [],
   "source": [
    "seed = 123\n",
    "sample_fraction = 0.7\n",
    "\n",
    "evaluation = Evaluation.Evaluation(user_ids, df_test, seed)"
   ]
  },
  {
   "cell_type": "code",
   "execution_count": 7,
   "metadata": {},
   "outputs": [
    {
     "data": {
      "text/html": [
       "<div>\n",
       "<style scoped>\n",
       "    .dataframe tbody tr th:only-of-type {\n",
       "        vertical-align: middle;\n",
       "    }\n",
       "\n",
       "    .dataframe tbody tr th {\n",
       "        vertical-align: top;\n",
       "    }\n",
       "\n",
       "    .dataframe thead th {\n",
       "        text-align: right;\n",
       "    }\n",
       "</style>\n",
       "<table border=\"1\" class=\"dataframe\">\n",
       "  <thead>\n",
       "    <tr style=\"text-align: right;\">\n",
       "      <th></th>\n",
       "      <th>song</th>\n",
       "      <th>user_id</th>\n",
       "      <th>play_count</th>\n",
       "    </tr>\n",
       "  </thead>\n",
       "  <tbody>\n",
       "    <tr>\n",
       "      <th>11209</th>\n",
       "      <td>Show Me - Justin</td>\n",
       "      <td>ca055b9072e5a68d89f42099869213404f56a981</td>\n",
       "      <td>5</td>\n",
       "    </tr>\n",
       "    <tr>\n",
       "      <th>9741</th>\n",
       "      <td>Emergency (Album Version) - Paramore</td>\n",
       "      <td>ca055b9072e5a68d89f42099869213404f56a981</td>\n",
       "      <td>5</td>\n",
       "    </tr>\n",
       "    <tr>\n",
       "      <th>7660</th>\n",
       "      <td>One I Love - Coldplay</td>\n",
       "      <td>ca055b9072e5a68d89f42099869213404f56a981</td>\n",
       "      <td>4</td>\n",
       "    </tr>\n",
       "    <tr>\n",
       "      <th>6161</th>\n",
       "      <td>Check On It - Beyoncé feat. Slim Thug</td>\n",
       "      <td>ca055b9072e5a68d89f42099869213404f56a981</td>\n",
       "      <td>3</td>\n",
       "    </tr>\n",
       "    <tr>\n",
       "      <th>10187</th>\n",
       "      <td>Harder To Breathe - Maroon 5</td>\n",
       "      <td>ca055b9072e5a68d89f42099869213404f56a981</td>\n",
       "      <td>3</td>\n",
       "    </tr>\n",
       "    <tr>\n",
       "      <th>21702</th>\n",
       "      <td>I Am The Club (Explicit Album Version) - Plies</td>\n",
       "      <td>ca055b9072e5a68d89f42099869213404f56a981</td>\n",
       "      <td>2</td>\n",
       "    </tr>\n",
       "    <tr>\n",
       "      <th>5712</th>\n",
       "      <td>Everyone's At It - Lily Allen</td>\n",
       "      <td>ca055b9072e5a68d89f42099869213404f56a981</td>\n",
       "      <td>2</td>\n",
       "    </tr>\n",
       "    <tr>\n",
       "      <th>7958</th>\n",
       "      <td>Dancing Shoes - Arctic Monkeys</td>\n",
       "      <td>ca055b9072e5a68d89f42099869213404f56a981</td>\n",
       "      <td>2</td>\n",
       "    </tr>\n",
       "    <tr>\n",
       "      <th>20129</th>\n",
       "      <td>Things I Don't Understand - Coldplay</td>\n",
       "      <td>ca055b9072e5a68d89f42099869213404f56a981</td>\n",
       "      <td>2</td>\n",
       "    </tr>\n",
       "    <tr>\n",
       "      <th>11494</th>\n",
       "      <td>Genius - Kings Of Leon</td>\n",
       "      <td>ca055b9072e5a68d89f42099869213404f56a981</td>\n",
       "      <td>2</td>\n",
       "    </tr>\n",
       "    <tr>\n",
       "      <th>13903</th>\n",
       "      <td>You (featuring Tank) (Amended Album Version) - Plies featuring Tank</td>\n",
       "      <td>ca055b9072e5a68d89f42099869213404f56a981</td>\n",
       "      <td>1</td>\n",
       "    </tr>\n",
       "    <tr>\n",
       "      <th>12757</th>\n",
       "      <td>Can't Make You Love Me - Britney Spears</td>\n",
       "      <td>ca055b9072e5a68d89f42099869213404f56a981</td>\n",
       "      <td>1</td>\n",
       "    </tr>\n",
       "    <tr>\n",
       "      <th>1475</th>\n",
       "      <td>Don't Panic - Coldplay</td>\n",
       "      <td>ca055b9072e5a68d89f42099869213404f56a981</td>\n",
       "      <td>1</td>\n",
       "    </tr>\n",
       "    <tr>\n",
       "      <th>10847</th>\n",
       "      <td>Valerie - Amy Winehouse</td>\n",
       "      <td>ca055b9072e5a68d89f42099869213404f56a981</td>\n",
       "      <td>1</td>\n",
       "    </tr>\n",
       "    <tr>\n",
       "      <th>4088</th>\n",
       "      <td>Baby Boy [feat. Beyonce] - Sean Paul</td>\n",
       "      <td>ca055b9072e5a68d89f42099869213404f56a981</td>\n",
       "      <td>1</td>\n",
       "    </tr>\n",
       "    <tr>\n",
       "      <th>8525</th>\n",
       "      <td>Be With You - Beyoncé</td>\n",
       "      <td>ca055b9072e5a68d89f42099869213404f56a981</td>\n",
       "      <td>1</td>\n",
       "    </tr>\n",
       "    <tr>\n",
       "      <th>8297</th>\n",
       "      <td>Anytime You Need A Friend - Mariah Carey</td>\n",
       "      <td>ca055b9072e5a68d89f42099869213404f56a981</td>\n",
       "      <td>1</td>\n",
       "    </tr>\n",
       "    <tr>\n",
       "      <th>8128</th>\n",
       "      <td>Music Of The Sun - Rihanna</td>\n",
       "      <td>ca055b9072e5a68d89f42099869213404f56a981</td>\n",
       "      <td>1</td>\n",
       "    </tr>\n",
       "    <tr>\n",
       "      <th>8872</th>\n",
       "      <td>A Dustland Fairytale - The Killers</td>\n",
       "      <td>ca055b9072e5a68d89f42099869213404f56a981</td>\n",
       "      <td>1</td>\n",
       "    </tr>\n",
       "  </tbody>\n",
       "</table>\n",
       "</div>"
      ],
      "text/plain": [
       "                                                                      song  \\\n",
       "11209                                                     Show Me - Justin   \n",
       "9741                                  Emergency (Album Version) - Paramore   \n",
       "7660                                                 One I Love - Coldplay   \n",
       "6161                                 Check On It - Beyoncé feat. Slim Thug   \n",
       "10187                                         Harder To Breathe - Maroon 5   \n",
       "21702                       I Am The Club (Explicit Album Version) - Plies   \n",
       "5712                                         Everyone's At It - Lily Allen   \n",
       "7958                                        Dancing Shoes - Arctic Monkeys   \n",
       "20129                                 Things I Don't Understand - Coldplay   \n",
       "11494                                               Genius - Kings Of Leon   \n",
       "13903  You (featuring Tank) (Amended Album Version) - Plies featuring Tank   \n",
       "12757                              Can't Make You Love Me - Britney Spears   \n",
       "1475                                                Don't Panic - Coldplay   \n",
       "10847                                              Valerie - Amy Winehouse   \n",
       "4088                                  Baby Boy [feat. Beyonce] - Sean Paul   \n",
       "8525                                                 Be With You - Beyoncé   \n",
       "8297                              Anytime You Need A Friend - Mariah Carey   \n",
       "8128                                            Music Of The Sun - Rihanna   \n",
       "8872                                    A Dustland Fairytale - The Killers   \n",
       "\n",
       "                                        user_id  play_count  \n",
       "11209  ca055b9072e5a68d89f42099869213404f56a981           5  \n",
       "9741   ca055b9072e5a68d89f42099869213404f56a981           5  \n",
       "7660   ca055b9072e5a68d89f42099869213404f56a981           4  \n",
       "6161   ca055b9072e5a68d89f42099869213404f56a981           3  \n",
       "10187  ca055b9072e5a68d89f42099869213404f56a981           3  \n",
       "21702  ca055b9072e5a68d89f42099869213404f56a981           2  \n",
       "5712   ca055b9072e5a68d89f42099869213404f56a981           2  \n",
       "7958   ca055b9072e5a68d89f42099869213404f56a981           2  \n",
       "20129  ca055b9072e5a68d89f42099869213404f56a981           2  \n",
       "11494  ca055b9072e5a68d89f42099869213404f56a981           2  \n",
       "13903  ca055b9072e5a68d89f42099869213404f56a981           1  \n",
       "12757  ca055b9072e5a68d89f42099869213404f56a981           1  \n",
       "1475   ca055b9072e5a68d89f42099869213404f56a981           1  \n",
       "10847  ca055b9072e5a68d89f42099869213404f56a981           1  \n",
       "4088   ca055b9072e5a68d89f42099869213404f56a981           1  \n",
       "8525   ca055b9072e5a68d89f42099869213404f56a981           1  \n",
       "8297   ca055b9072e5a68d89f42099869213404f56a981           1  \n",
       "8128   ca055b9072e5a68d89f42099869213404f56a981           1  \n",
       "8872   ca055b9072e5a68d89f42099869213404f56a981           1  "
      ]
     },
     "execution_count": 7,
     "metadata": {},
     "output_type": "execute_result"
    }
   ],
   "source": [
    "user_items = df_test[df_test['user_id'] == 'ca055b9072e5a68d89f42099869213404f56a981']\n",
    "user_items = user_items.sort_values(by='play_count', ascending=False)\n",
    "user_items"
   ]
  },
  {
   "cell_type": "markdown",
   "metadata": {},
   "source": [
    "## Simple Recommender based on Popularity\n",
    "\n",
    "This simple model recommends songs to users based only on their popularity. This is a first naive approach as it is not a personalized recommendation: all users will get the same recommendations."
   ]
  },
  {
   "cell_type": "code",
   "execution_count": 10,
   "metadata": {
    "scrolled": true
   },
   "outputs": [
    {
     "data": {
      "text/html": [
       "<div>\n",
       "<style scoped>\n",
       "    .dataframe tbody tr th:only-of-type {\n",
       "        vertical-align: middle;\n",
       "    }\n",
       "\n",
       "    .dataframe tbody tr th {\n",
       "        vertical-align: top;\n",
       "    }\n",
       "\n",
       "    .dataframe thead th {\n",
       "        text-align: right;\n",
       "    }\n",
       "</style>\n",
       "<table border=\"1\" class=\"dataframe\">\n",
       "  <thead>\n",
       "    <tr style=\"text-align: right;\">\n",
       "      <th></th>\n",
       "      <th>song</th>\n",
       "      <th>score</th>\n",
       "      <th>Rank</th>\n",
       "    </tr>\n",
       "  </thead>\n",
       "  <tbody>\n",
       "    <tr>\n",
       "      <th>1084</th>\n",
       "      <td>Supermassive Black Hole (Album Version) - Muse</td>\n",
       "      <td>488</td>\n",
       "      <td>1.0</td>\n",
       "    </tr>\n",
       "    <tr>\n",
       "      <th>180</th>\n",
       "      <td>Check On It - Beyoncé feat. Slim Thug</td>\n",
       "      <td>466</td>\n",
       "      <td>2.0</td>\n",
       "    </tr>\n",
       "    <tr>\n",
       "      <th>295</th>\n",
       "      <td>Don't Panic - Coldplay</td>\n",
       "      <td>450</td>\n",
       "      <td>3.0</td>\n",
       "    </tr>\n",
       "    <tr>\n",
       "      <th>83</th>\n",
       "      <td>Baby Boy [feat. Beyonce] - Sean Paul</td>\n",
       "      <td>420</td>\n",
       "      <td>4.0</td>\n",
       "    </tr>\n",
       "    <tr>\n",
       "      <th>830</th>\n",
       "      <td>One I Love - Coldplay</td>\n",
       "      <td>386</td>\n",
       "      <td>5.0</td>\n",
       "    </tr>\n",
       "    <tr>\n",
       "      <th>13</th>\n",
       "      <td>A Dustland Fairytale - The Killers</td>\n",
       "      <td>361</td>\n",
       "      <td>6.0</td>\n",
       "    </tr>\n",
       "    <tr>\n",
       "      <th>908</th>\n",
       "      <td>Ragoo - Kings Of Leon</td>\n",
       "      <td>355</td>\n",
       "      <td>7.0</td>\n",
       "    </tr>\n",
       "    <tr>\n",
       "      <th>804</th>\n",
       "      <td>Nothin' On You [feat. Bruno Mars] (Album Version) - B.o.B</td>\n",
       "      <td>333</td>\n",
       "      <td>8.0</td>\n",
       "    </tr>\n",
       "    <tr>\n",
       "      <th>225</th>\n",
       "      <td>Crawling (Album Version) - Linkin Park</td>\n",
       "      <td>309</td>\n",
       "      <td>9.0</td>\n",
       "    </tr>\n",
       "    <tr>\n",
       "      <th>58</th>\n",
       "      <td>Angie (1993 Digital Remaster) - The Rolling Stones</td>\n",
       "      <td>308</td>\n",
       "      <td>10.0</td>\n",
       "    </tr>\n",
       "  </tbody>\n",
       "</table>\n",
       "</div>"
      ],
      "text/plain": [
       "                                                           song  score  Rank\n",
       "1084             Supermassive Black Hole (Album Version) - Muse    488   1.0\n",
       "180                       Check On It - Beyoncé feat. Slim Thug    466   2.0\n",
       "295                                      Don't Panic - Coldplay    450   3.0\n",
       "83                         Baby Boy [feat. Beyonce] - Sean Paul    420   4.0\n",
       "830                                       One I Love - Coldplay    386   5.0\n",
       "13                           A Dustland Fairytale - The Killers    361   6.0\n",
       "908                                       Ragoo - Kings Of Leon    355   7.0\n",
       "804   Nothin' On You [feat. Bruno Mars] (Album Version) - B.o.B    333   8.0\n",
       "225                      Crawling (Album Version) - Linkin Park    309   9.0\n",
       "58           Angie (1993 Digital Remaster) - The Rolling Stones    308  10.0"
      ]
     },
     "execution_count": 10,
     "metadata": {},
     "output_type": "execute_result"
    }
   ],
   "source": [
    "reco_pop = Recommenders.PopularityRecommender(df_test)\n",
    "\n",
    "# Example with user ca055b9072e5a68d89f42099869213404f56a981\n",
    "reco_pop.recommend('ca055b9072e5a68d89f42099869213404f56a981', 10)[0]"
   ]
  },
  {
   "cell_type": "markdown",
   "metadata": {},
   "source": [
    "### Evaluation of the model"
   ]
  },
  {
   "cell_type": "code",
   "execution_count": 11,
   "metadata": {
    "scrolled": false
   },
   "outputs": [
    {
     "name": "stdout",
     "output_type": "stream",
     "text": [
      "Accuracy of    the first suggestion  :    22.60% (0.20007774425804925, 0.25192225574195076)\n",
      "Accuracy of the  5 first suggestions :    21.08% (0.19949444387292414, 0.22210555612707583)\n",
      "Accuracy of the 10 first suggestions :    18.13% (0.173748914491228, 0.18885108550877197)\n",
      "Accuracy of the 20 first suggestions :    15.40% (0.14904693331112376, 0.15905306668887623)\n"
     ]
    },
    {
     "data": {
      "image/png": "[encoded data removed]",
      "text/plain": [
       "<Figure size 720x360 with 1 Axes>"
      ]
     },
     "metadata": {
      "needs_background": "light"
     },
     "output_type": "display_data"
    }
   ],
   "source": [
    "evaluation.evaluate(reco_pop.recommend, 1000)"
   ]
  },
  {
   "cell_type": "markdown",
   "metadata": {},
   "source": [
    "## Recommender based on Item Similarity\n",
    "\n",
    "This model recommends songs to users based on TODOOOOOOOOOOOOOOOOOOOOOOOOOOOOOOOOOO"
   ]
  },
  {
   "cell_type": "code",
   "execution_count": 12,
   "metadata": {
    "scrolled": true
   },
   "outputs": [
    {
     "data": {
      "text/html": [
       "<div>\n",
       "<style scoped>\n",
       "    .dataframe tbody tr th:only-of-type {\n",
       "        vertical-align: middle;\n",
       "    }\n",
       "\n",
       "    .dataframe tbody tr th {\n",
       "        vertical-align: top;\n",
       "    }\n",
       "\n",
       "    .dataframe thead th {\n",
       "        text-align: right;\n",
       "    }\n",
       "</style>\n",
       "<table border=\"1\" class=\"dataframe\">\n",
       "  <thead>\n",
       "    <tr style=\"text-align: right;\">\n",
       "      <th></th>\n",
       "      <th>user_id</th>\n",
       "      <th>song</th>\n",
       "      <th>score</th>\n",
       "      <th>rank</th>\n",
       "    </tr>\n",
       "  </thead>\n",
       "  <tbody>\n",
       "    <tr>\n",
       "      <th>0</th>\n",
       "      <td></td>\n",
       "      <td>Check On It - Beyoncé feat. Slim Thug</td>\n",
       "      <td>0.241199</td>\n",
       "      <td>1</td>\n",
       "    </tr>\n",
       "    <tr>\n",
       "      <th>1</th>\n",
       "      <td></td>\n",
       "      <td>Everyone's At It - Lily Allen</td>\n",
       "      <td>0.221545</td>\n",
       "      <td>2</td>\n",
       "    </tr>\n",
       "    <tr>\n",
       "      <th>2</th>\n",
       "      <td></td>\n",
       "      <td>Baby Boy [feat. Beyonce] - Sean Paul</td>\n",
       "      <td>0.197479</td>\n",
       "      <td>3</td>\n",
       "    </tr>\n",
       "    <tr>\n",
       "      <th>3</th>\n",
       "      <td></td>\n",
       "      <td>Ragoo - Kings Of Leon</td>\n",
       "      <td>0.194501</td>\n",
       "      <td>4</td>\n",
       "    </tr>\n",
       "    <tr>\n",
       "      <th>4</th>\n",
       "      <td></td>\n",
       "      <td>Good Girl Gone Bad - Rihanna</td>\n",
       "      <td>0.190264</td>\n",
       "      <td>5</td>\n",
       "    </tr>\n",
       "    <tr>\n",
       "      <th>5</th>\n",
       "      <td></td>\n",
       "      <td>Show You How - The Killers</td>\n",
       "      <td>0.141047</td>\n",
       "      <td>6</td>\n",
       "    </tr>\n",
       "    <tr>\n",
       "      <th>6</th>\n",
       "      <td></td>\n",
       "      <td>Music Of The Sun - Rihanna</td>\n",
       "      <td>0.139989</td>\n",
       "      <td>7</td>\n",
       "    </tr>\n",
       "    <tr>\n",
       "      <th>7</th>\n",
       "      <td></td>\n",
       "      <td>The World Turned Upside Down - Coldplay</td>\n",
       "      <td>0.138018</td>\n",
       "      <td>8</td>\n",
       "    </tr>\n",
       "    <tr>\n",
       "      <th>8</th>\n",
       "      <td></td>\n",
       "      <td>Things I Don't Understand - Coldplay</td>\n",
       "      <td>0.134124</td>\n",
       "      <td>9</td>\n",
       "    </tr>\n",
       "    <tr>\n",
       "      <th>9</th>\n",
       "      <td></td>\n",
       "      <td>Street Lights - Kanye West</td>\n",
       "      <td>0.126190</td>\n",
       "      <td>10</td>\n",
       "    </tr>\n",
       "  </tbody>\n",
       "</table>\n",
       "</div>"
      ],
      "text/plain": [
       "  user_id                                     song     score rank\n",
       "0            Check On It - Beyoncé feat. Slim Thug  0.241199    1\n",
       "1                    Everyone's At It - Lily Allen  0.221545    2\n",
       "2             Baby Boy [feat. Beyonce] - Sean Paul  0.197479    3\n",
       "3                            Ragoo - Kings Of Leon  0.194501    4\n",
       "4                     Good Girl Gone Bad - Rihanna  0.190264    5\n",
       "5                       Show You How - The Killers  0.141047    6\n",
       "6                       Music Of The Sun - Rihanna  0.139989    7\n",
       "7          The World Turned Upside Down - Coldplay  0.138018    8\n",
       "8             Things I Don't Understand - Coldplay  0.134124    9\n",
       "9                       Street Lights - Kanye West  0.126190   10"
      ]
     },
     "execution_count": 12,
     "metadata": {},
     "output_type": "execute_result"
    }
   ],
   "source": [
    "reco_sim = Recommenders.ItemSimilarityRecommender(df_test, seed, sample_fraction)\n",
    "\n",
    "# Example with user ca055b9072e5a68d89f42099869213404f56a981\n",
    "reco_sim.recommend('ca055b9072e5a68d89f42099869213404f56a981', 10)[0]"
   ]
  },
  {
   "cell_type": "markdown",
   "metadata": {},
   "source": [
    "### Evaluation of the model"
   ]
  },
  {
   "cell_type": "code",
   "execution_count": 11,
   "metadata": {
    "scrolled": false
   },
   "outputs": [
    {
     "name": "stdout",
     "output_type": "stream",
     "text": [
      "Accuracy of    the first suggestion  :    58.00% (0.4832643101683205, 0.6767356898316794)\n",
      "Accuracy of the  5 first suggestions :    37.60% (0.3335429997680821, 0.4184570002319179)\n",
      "Accuracy of the 10 first suggestions :    28.59% (0.25781177609539335, 0.3139033693409156)\n",
      "Accuracy of the 20 first suggestions :    20.57% (0.18748294008701455, 0.2239698700932612)\n"
     ]
    },
    {
     "data": {
      "image/png": "[encoded data removed]",
      "text/plain": [
       "<Figure size 720x360 with 1 Axes>"
      ]
     },
     "metadata": {
      "needs_background": "light"
     },
     "output_type": "display_data"
    }
   ],
   "source": [
    "evaluation.evaluate(reco_sim.recommend, 100)"
   ]
  },
  {
   "cell_type": "markdown",
   "metadata": {},
   "source": [
    "## Recommender based on Play Count\n",
    "\n",
    "This model recommends songs to users based on TODOOOOOOOOOOOOOOOOOOOOOOOOOOOOOOOOOO.\n",
    "\n",
    "It is now important to create another model based on play_count and not only on rather the user has listened to the music or not. Let's try to call our system based on ratings."
   ]
  },
  {
   "cell_type": "code",
   "execution_count": 8,
   "metadata": {
    "scrolled": true
   },
   "outputs": [
    {
     "data": {
      "text/html": [
       "<div>\n",
       "<style scoped>\n",
       "    .dataframe tbody tr th:only-of-type {\n",
       "        vertical-align: middle;\n",
       "    }\n",
       "\n",
       "    .dataframe tbody tr th {\n",
       "        vertical-align: top;\n",
       "    }\n",
       "\n",
       "    .dataframe thead th {\n",
       "        text-align: right;\n",
       "    }\n",
       "</style>\n",
       "<table border=\"1\" class=\"dataframe\">\n",
       "  <thead>\n",
       "    <tr style=\"text-align: right;\">\n",
       "      <th></th>\n",
       "      <th>song</th>\n",
       "      <th>score</th>\n",
       "    </tr>\n",
       "  </thead>\n",
       "  <tbody>\n",
       "    <tr>\n",
       "      <th>0</th>\n",
       "      <td>Check On It - Beyoncé feat. Slim Thug</td>\n",
       "      <td>3.895342</td>\n",
       "    </tr>\n",
       "    <tr>\n",
       "      <th>1</th>\n",
       "      <td>Good Girl Gone Bad - Rihanna</td>\n",
       "      <td>3.232961</td>\n",
       "    </tr>\n",
       "    <tr>\n",
       "      <th>2</th>\n",
       "      <td>Everyone's At It - Lily Allen</td>\n",
       "      <td>3.164293</td>\n",
       "    </tr>\n",
       "    <tr>\n",
       "      <th>3</th>\n",
       "      <td>Baby Boy [feat. Beyonce] - Sean Paul</td>\n",
       "      <td>2.878792</td>\n",
       "    </tr>\n",
       "    <tr>\n",
       "      <th>4</th>\n",
       "      <td>The World Turned Upside Down - Coldplay</td>\n",
       "      <td>2.801839</td>\n",
       "    </tr>\n",
       "    <tr>\n",
       "      <th>5</th>\n",
       "      <td>Music Of The Sun - Rihanna</td>\n",
       "      <td>2.794051</td>\n",
       "    </tr>\n",
       "    <tr>\n",
       "      <th>6</th>\n",
       "      <td>Things I Don't Understand - Coldplay</td>\n",
       "      <td>2.163119</td>\n",
       "    </tr>\n",
       "    <tr>\n",
       "      <th>7</th>\n",
       "      <td>Show You How - The Killers</td>\n",
       "      <td>2.161997</td>\n",
       "    </tr>\n",
       "    <tr>\n",
       "      <th>8</th>\n",
       "      <td>Waterfall (Spirit Of The Rainforest Album Version) - David Arkenstone</td>\n",
       "      <td>2.161817</td>\n",
       "    </tr>\n",
       "    <tr>\n",
       "      <th>9</th>\n",
       "      <td>Ragoo - Kings Of Leon</td>\n",
       "      <td>2.038268</td>\n",
       "    </tr>\n",
       "  </tbody>\n",
       "</table>\n",
       "</div>"
      ],
      "text/plain": [
       "                                                                    song  \\\n",
       "0                                  Check On It - Beyoncé feat. Slim Thug   \n",
       "1                                           Good Girl Gone Bad - Rihanna   \n",
       "2                                          Everyone's At It - Lily Allen   \n",
       "3                                   Baby Boy [feat. Beyonce] - Sean Paul   \n",
       "4                                The World Turned Upside Down - Coldplay   \n",
       "5                                             Music Of The Sun - Rihanna   \n",
       "6                                   Things I Don't Understand - Coldplay   \n",
       "7                                             Show You How - The Killers   \n",
       "8  Waterfall (Spirit Of The Rainforest Album Version) - David Arkenstone   \n",
       "9                                                  Ragoo - Kings Of Leon   \n",
       "\n",
       "      score  \n",
       "0  3.895342  \n",
       "1  3.232961  \n",
       "2  3.164293  \n",
       "3  2.878792  \n",
       "4  2.801839  \n",
       "5  2.794051  \n",
       "6  2.163119  \n",
       "7  2.161997  \n",
       "8  2.161817  \n",
       "9  2.038268  "
      ]
     },
     "execution_count": 8,
     "metadata": {},
     "output_type": "execute_result"
    }
   ],
   "source": [
    "reco_play = Recommenders.PlayCountRecommender(df_test, seed, sample_fraction)\n",
    "\n",
    "# Example with user ca055b9072e5a68d89f42099869213404f56a981\n",
    "reco_play.recommend('ca055b9072e5a68d89f42099869213404f56a981', 10)[0]"
   ]
  },
  {
   "cell_type": "markdown",
   "metadata": {},
   "source": [
    "### Evaluation of the model"
   ]
  },
  {
   "cell_type": "code",
   "execution_count": 11,
   "metadata": {
    "scrolled": false
   },
   "outputs": [
    {
     "name": "stdout",
     "output_type": "stream",
     "text": [
      "Accuracy of    the first suggestion  :    13.60% (0.11475413505486674, 0.1572458649451333)\n",
      "Accuracy of the  5 first suggestions :    10.16% (0.09322577135470521, 0.10997422864529478)\n",
      "Accuracy of the 10 first suggestions :    8.11% (0.07571268223222728, 0.08644404244335867)\n",
      "Accuracy of the 20 first suggestions :    5.96% (0.05630110912921449, 0.0629531664601235)\n"
     ]
    },
    {
     "data": {
      "image/png": "[encoded data removed]",
      "text/plain": [
       "<Figure size 720x360 with 1 Axes>"
      ]
     },
     "metadata": {
      "needs_background": "light"
     },
     "output_type": "display_data"
    }
   ],
   "source": [
    "evaluation.evaluate(reco_play.recommend, 1000)"
   ]
  },
  {
   "cell_type": "markdown",
   "metadata": {},
   "source": [
    "## Recommender combined\n",
    "\n",
    "This model recommends songs to users based on TODOOOOOOOOOOOOOOOOOOOOOOOOOOOOOOOOOO.\n",
    "\n",
    "It is now important to create another model based on play_count and not only on rather the user has listened to the music or not. Let's try to call our system based on ratings."
   ]
  },
  {
   "cell_type": "code",
   "execution_count": null,
   "metadata": {},
   "outputs": [],
   "source": []
  }
 ],
 "metadata": {
  "kernelspec": {
   "display_name": "Python 3",
   "language": "python",
   "name": "python3"
  },
  "language_info": {
   "codemirror_mode": {
    "name": "ipython",
    "version": 3
   },
   "file_extension": ".py",
   "mimetype": "text/x-python",
   "name": "python",
   "nbconvert_exporter": "python",
   "pygments_lexer": "ipython3",
   "version": "3.8.8"
  },
  "vscode": {
   "interpreter": {
    "hash": "abce8bf6728c676eb28322c06171402e7595ac9f83a39e1e9ca84cd0130fbca6"
   }
  }
 },
 "nbformat": 4,
 "nbformat_minor": 2
}
