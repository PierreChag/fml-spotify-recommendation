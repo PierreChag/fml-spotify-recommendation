{
 "cells": [
  {
   "cell_type": "markdown",
   "metadata": {},
   "source": [
    "## IMPORT THE DATASET \n",
    "\n",
    "### We will use the data from three sources:\n",
    "    1: songs metadata\n",
    "    2: users data\n",
    "    3: lyrics "
   ]
  },
  {
   "cell_type": "code",
   "execution_count": 47,
   "metadata": {},
   "outputs": [],
   "source": [
    "import pandas as pd\n",
    "import numpy as np\n",
    "import matplotlib.pyplot as plt\n",
    "import seaborn as sns\n"
   ]
  },
  {
   "cell_type": "code",
   "execution_count": 67,
   "metadata": {},
   "outputs": [
    {
     "name": "stdout",
     "output_type": "stream",
     "text": [
      "                                    user_id             song_id  play_count  \\\n",
      "0  b80344d063b5ccb3212f76538f3d9e43d87dca9e  SOWEZSI12A81C21CE6           1   \n",
      "1  833c530ecda3d99deb8395f70400aa3999783d91  SOWEZSI12A81C21CE6           2   \n",
      "2  d6c5bd2b570b4faf8964d7ed04f3392ff505d2be  SOWEZSI12A81C21CE6           1   \n",
      "3  724534729c9f5dc72a009269c2c225883e4775d2  SOWEZSI12A81C21CE6           1   \n",
      "4  ee7aa84c164038c963cfd02a7e52a5598aa470c3  SOWEZSI12A81C21CE6           2   \n",
      "\n",
      "   Unnamed: 0              title  artist_name  artist_familiarity  \\\n",
      "0         444  Tu Quieres Volver  Gipsy Kings            0.710446   \n",
      "1         444  Tu Quieres Volver  Gipsy Kings            0.710446   \n",
      "2         444  Tu Quieres Volver  Gipsy Kings            0.710446   \n",
      "3         444  Tu Quieres Volver  Gipsy Kings            0.710446   \n",
      "4         444  Tu Quieres Volver  Gipsy Kings            0.710446   \n",
      "\n",
      "   artist_hotttnesss           artist_id  artist_latitude  ...  \\\n",
      "0           0.540631  AR2UQQ51187B9AC816              NaN  ...   \n",
      "1           0.540631  AR2UQQ51187B9AC816              NaN  ...   \n",
      "2           0.540631  AR2UQQ51187B9AC816              NaN  ...   \n",
      "3           0.540631  AR2UQQ51187B9AC816              NaN  ...   \n",
      "4           0.540631  AR2UQQ51187B9AC816              NaN  ...   \n",
      "\n",
      "   mode_confidence        release  release_7digitalid  song_hotttnesss  \\\n",
      "0            0.318  Greatest Hits            283353.0         0.778821   \n",
      "1            0.318  Greatest Hits            283353.0         0.778821   \n",
      "2            0.318  Greatest Hits            283353.0         0.778821   \n",
      "3            0.318  Greatest Hits            283353.0         0.778821   \n",
      "4            0.318  Greatest Hits            283353.0         0.778821   \n",
      "\n",
      "  start_of_fade_out    tempo time_signature time_signature_confidence  \\\n",
      "0           188.285  165.006            1.0                     0.034   \n",
      "1           188.285  165.006            1.0                     0.034   \n",
      "2           188.285  165.006            1.0                     0.034   \n",
      "3           188.285  165.006            1.0                     0.034   \n",
      "4           188.285  165.006            1.0                     0.034   \n",
      "\n",
      "  track_7digitalid    year  \n",
      "0        3167278.0  1987.0  \n",
      "1        3167278.0  1987.0  \n",
      "2        3167278.0  1987.0  \n",
      "3        3167278.0  1987.0  \n",
      "4        3167278.0  1987.0  \n",
      "\n",
      "[5 rows x 37 columns]\n"
     ]
    }
   ],
   "source": [
    "df_songs = pd.read_csv('songs_data.csv')\n",
    "df_users = pd.read_csv('train_triplets.txt', sep='\\t', header=None, names=['user_id', 'song_id', 'play_count'])\n",
    "\n",
    "data = pd.merge(df_users, df_songs, on='song_id', how='inner')\n",
    "print(data.head())\n",
    "\n",
    "\n"
   ]
  },
  {
   "cell_type": "code",
   "execution_count": 73,
   "metadata": {},
   "outputs": [
    {
     "name": "stdout",
     "output_type": "stream",
     "text": [
      "Number of unique users:  418252\n",
      "Number of unique songs:  3675\n"
     ]
    }
   ],
   "source": [
    "data.shape\n",
    "n_ids = len(data['user_id'].unique())\n",
    "n_songs = len(data['song_id'].unique())\n",
    "\n",
    "print('Number of unique users: ', n_ids)\n",
    "print('Number of unique songs: ', n_songs)"
   ]
  },
  {
   "cell_type": "code",
   "execution_count": 101,
   "metadata": {},
   "outputs": [
    {
     "name": "stdout",
     "output_type": "stream",
     "text": [
      "                    play_count\n",
      "song_id                       \n",
      "SOAAAQN12AB01856D3         217\n",
      "SOAAEHR12A6D4FB060         957\n",
      "SOAAFUV12AB018831D          10\n",
      "SOAANKE12A8C13CF5C           5\n",
      "SOAASSD12AB0181AA6         188\n",
      "...                        ...\n",
      "SOZYUKG12A6D4FB64F          94\n",
      "SOZYZDZ12AB01873CA           6\n",
      "SOZZPYH12AB0187578         122\n",
      "SOZZQBH12A6D4FAFD8          63\n",
      "SOZZVMW12AB0183B52         384\n",
      "\n",
      "[3675 rows x 1 columns]\n"
     ]
    }
   ],
   "source": [
    "counts = data.iloc[:,0:3].groupby('song_id').sum()\n",
    "print(counts)\n"
   ]
  },
  {
   "cell_type": "code",
   "execution_count": 107,
   "metadata": {},
   "outputs": [],
   "source": [
    "grouped = data.merge(counts, on='song_id', how='left')\n",
    "grouped = grouped.drop_duplicates(subset=['user_id', 'song_id'])\n",
    "grouped = grouped.rename(columns = {'play_count_x':'play_count', 'play_count_y':'total_play_count'})\n",
    "grouped.shape\n",
    "\n",
    "preview = grouped.iloc[:1000, :]"
   ]
  },
  {
   "cell_type": "code",
   "execution_count": 105,
   "metadata": {},
   "outputs": [],
   "source": [
    "grouped.to_csv('final.csv', encoding='utf-8')"
   ]
  },
  {
   "cell_type": "code",
   "execution_count": 108,
   "metadata": {},
   "outputs": [],
   "source": [
    "preview.to_csv('preview.csv', encoding='utf-8')"
   ]
  }
 ],
 "metadata": {
  "kernelspec": {
   "display_name": "Python 3.8.8 ('base')",
   "language": "python",
   "name": "python3"
  },
  "language_info": {
   "codemirror_mode": {
    "name": "ipython",
    "version": 3
   },
   "file_extension": ".py",
   "mimetype": "text/x-python",
   "name": "python",
   "nbconvert_exporter": "python",
   "pygments_lexer": "ipython3",
   "version": "3.8.8"
  },
  "orig_nbformat": 4,
  "vscode": {
   "interpreter": {
    "hash": "cd78fef2128015050713e82ca51c6520b11aee7c9ee8df750520bbbc7384cbaa"
   }
  }
 },
 "nbformat": 4,
 "nbformat_minor": 2
}
